{
 "cells": [
  {
   "cell_type": "markdown",
   "id": "0ada6906",
   "metadata": {},
   "source": [
    "We want to augment the smaller dataset with some negatives from the larger dataset. We want to get a wide variety of molecules, so we want to cluster the molecules to ensure we get an even distribution of molecules from each cluster. Start by loading the big data, filtering bad data, filtering molecules that are in the small data, and filtering out any positives left over. "
   ]
  },
  {
   "cell_type": "code",
   "execution_count": 2,
   "id": "e50c182c",
   "metadata": {},
   "outputs": [],
   "source": [
    "import pandas as pd\n",
    "import rdkit"
   ]
  },
  {
   "cell_type": "code",
   "execution_count": 2,
   "id": "387fda0d",
   "metadata": {},
   "outputs": [
    {
     "name": "stdout",
     "output_type": "stream",
     "text": [
      "364131\n"
     ]
    }
   ],
   "source": [
    "big_data = pd.read_csv(\"../data/raw/AID_624169_datatable.csv\", skiprows=[1, 2, 3, 4])\n",
    "print(len(big_data))"
   ]
  },
  {
   "cell_type": "code",
   "execution_count": 3,
   "id": "5e230b2f",
   "metadata": {},
   "outputs": [
    {
     "name": "stdout",
     "output_type": "stream",
     "text": [
      "364130\n"
     ]
    }
   ],
   "source": [
    "big_data = big_data[~big_data[\"PUBCHEM_CID\"].isnull()]\n",
    "    \n",
    "print(len(big_data))"
   ]
  },
  {
   "cell_type": "code",
   "execution_count": 4,
   "id": "b85dec02",
   "metadata": {},
   "outputs": [
    {
     "name": "stdout",
     "output_type": "stream",
     "text": [
      "361862\n"
     ]
    }
   ],
   "source": [
    "small_data = pd.read_csv(\"../data/raw/smaller_dataset/AID_624381_datatable.csv\", skiprows=[1, 2, 3, 4])\n",
    "\n",
    "type_cols = {\"PUBCHEM_SID\": int, \"PUBCHEM_CID\": int}\n",
    "\n",
    "for col, col_type in type_cols.items():\n",
    "    big_data[col] = big_data[col].astype(col_type)\n",
    "    small_data[col] = small_data[col].astype(col_type)\n",
    "\n",
    "\n",
    "\n",
    "big_data = big_data[~big_data[\"PUBCHEM_CID\"].isin(small_data[\"PUBCHEM_CID\"])]\n",
    "print(len(big_data))"
   ]
  },
  {
   "cell_type": "code",
   "execution_count": 5,
   "id": "5632b142",
   "metadata": {},
   "outputs": [
    {
     "name": "stdout",
     "output_type": "stream",
     "text": [
      "361714\n"
     ]
    }
   ],
   "source": [
    "big_data = big_data[big_data[\"PUBCHEM_ACTIVITY_OUTCOME\"] == \"Inactive\"]\n",
    "print(len(big_data))"
   ]
  },
  {
   "cell_type": "markdown",
   "id": "1425dfd4",
   "metadata": {},
   "source": [
    "Next we add the SMILES representation of the modecules to the table. SMILES data to CID mappings come from ftp://ftp.ncbi.nlm.nih.gov/pubchem/Compound/Extras/CID-SMILES.gz"
   ]
  },
  {
   "cell_type": "code",
   "execution_count": 6,
   "id": "969b8734",
   "metadata": {},
   "outputs": [
    {
     "data": {
      "text/html": [
       "<div>\n",
       "<style scoped>\n",
       "    .dataframe tbody tr th:only-of-type {\n",
       "        vertical-align: middle;\n",
       "    }\n",
       "\n",
       "    .dataframe tbody tr th {\n",
       "        vertical-align: top;\n",
       "    }\n",
       "\n",
       "    .dataframe thead th {\n",
       "        text-align: right;\n",
       "    }\n",
       "</style>\n",
       "<table border=\"1\" class=\"dataframe\">\n",
       "  <thead>\n",
       "    <tr style=\"text-align: right;\">\n",
       "      <th></th>\n",
       "      <th>PUBCHEM_RESULT_TAG</th>\n",
       "      <th>PUBCHEM_SID</th>\n",
       "      <th>PUBCHEM_CID</th>\n",
       "      <th>PUBCHEM_ACTIVITY_OUTCOME</th>\n",
       "      <th>PUBCHEM_ACTIVITY_SCORE</th>\n",
       "      <th>PUBCHEM_ACTIVITY_URL</th>\n",
       "      <th>PUBCHEM_ASSAYDATA_COMMENT</th>\n",
       "      <th>Activation at 7.6 uM</th>\n",
       "      <th>SMILES</th>\n",
       "    </tr>\n",
       "  </thead>\n",
       "  <tbody>\n",
       "    <tr>\n",
       "      <th>0</th>\n",
       "      <td>1</td>\n",
       "      <td>842121</td>\n",
       "      <td>6603008</td>\n",
       "      <td>Inactive</td>\n",
       "      <td>0</td>\n",
       "      <td>NaN</td>\n",
       "      <td>NaN</td>\n",
       "      <td>-2.06</td>\n",
       "      <td>CCOCCCNCC(=O)NC1=CC=C(C=C1)OC(F)(F)F.Cl</td>\n",
       "    </tr>\n",
       "    <tr>\n",
       "      <th>1</th>\n",
       "      <td>2</td>\n",
       "      <td>842122</td>\n",
       "      <td>6602571</td>\n",
       "      <td>Inactive</td>\n",
       "      <td>0</td>\n",
       "      <td>NaN</td>\n",
       "      <td>NaN</td>\n",
       "      <td>-2.81</td>\n",
       "      <td>COCCN1C(=NN=N1)CN2CCC(CC2)CC3=CC=CC=C3.Cl</td>\n",
       "    </tr>\n",
       "    <tr>\n",
       "      <th>2</th>\n",
       "      <td>3</td>\n",
       "      <td>842123</td>\n",
       "      <td>6602616</td>\n",
       "      <td>Inactive</td>\n",
       "      <td>0</td>\n",
       "      <td>NaN</td>\n",
       "      <td>NaN</td>\n",
       "      <td>-1.17</td>\n",
       "      <td>COCCN1C(=NN=N1)CN2CCC(CC2)(C3=CC(=CC=C3)C(F)(F...</td>\n",
       "    </tr>\n",
       "    <tr>\n",
       "      <th>3</th>\n",
       "      <td>4</td>\n",
       "      <td>842124</td>\n",
       "      <td>644371</td>\n",
       "      <td>Inactive</td>\n",
       "      <td>2</td>\n",
       "      <td>NaN</td>\n",
       "      <td>NaN</td>\n",
       "      <td>4.85</td>\n",
       "      <td>C1CCCN(CC1)CC(=O)NCCC2=CC=C(C=C2)F.C(=O)(C(=O)O)O</td>\n",
       "    </tr>\n",
       "    <tr>\n",
       "      <th>4</th>\n",
       "      <td>5</td>\n",
       "      <td>842125</td>\n",
       "      <td>6603132</td>\n",
       "      <td>Inactive</td>\n",
       "      <td>4</td>\n",
       "      <td>NaN</td>\n",
       "      <td>NaN</td>\n",
       "      <td>9.38</td>\n",
       "      <td>COC1=CC=C(C=C1)C(=O)C(C2=CC=CC=C2)N3CCOCC3.Cl</td>\n",
       "    </tr>\n",
       "  </tbody>\n",
       "</table>\n",
       "</div>"
      ],
      "text/plain": [
       "   PUBCHEM_RESULT_TAG  PUBCHEM_SID  PUBCHEM_CID PUBCHEM_ACTIVITY_OUTCOME  \\\n",
       "0                   1       842121      6603008                 Inactive   \n",
       "1                   2       842122      6602571                 Inactive   \n",
       "2                   3       842123      6602616                 Inactive   \n",
       "3                   4       842124       644371                 Inactive   \n",
       "4                   5       842125      6603132                 Inactive   \n",
       "\n",
       "   PUBCHEM_ACTIVITY_SCORE  PUBCHEM_ACTIVITY_URL  PUBCHEM_ASSAYDATA_COMMENT  \\\n",
       "0                       0                   NaN                        NaN   \n",
       "1                       0                   NaN                        NaN   \n",
       "2                       0                   NaN                        NaN   \n",
       "3                       2                   NaN                        NaN   \n",
       "4                       4                   NaN                        NaN   \n",
       "\n",
       "   Activation at 7.6 uM                                             SMILES  \n",
       "0                 -2.06            CCOCCCNCC(=O)NC1=CC=C(C=C1)OC(F)(F)F.Cl  \n",
       "1                 -2.81          COCCN1C(=NN=N1)CN2CCC(CC2)CC3=CC=CC=C3.Cl  \n",
       "2                 -1.17  COCCN1C(=NN=N1)CN2CCC(CC2)(C3=CC(=CC=C3)C(F)(F...  \n",
       "3                  4.85  C1CCCN(CC1)CC(=O)NCCC2=CC=C(C=C2)F.C(=O)(C(=O)O)O  \n",
       "4                  9.38      COC1=CC=C(C=C1)C(=O)C(C2=CC=CC=C2)N3CCOCC3.Cl  "
      ]
     },
     "execution_count": 6,
     "metadata": {},
     "output_type": "execute_result"
    }
   ],
   "source": [
    "CID_to_SMILES = pd.read_csv(\"../data/raw/CID-SMILES\", sep='\\t', header=None, names=[\"CID\", \"SMILES\"])\n",
    "smiles = big_data.join(CID_to_SMILES.set_index(\"CID\"), on=\"PUBCHEM_CID\")\n",
    "# Do more filtering to remove molecules that are really big maybe?\n",
    "smiles.head()"
   ]
  },
  {
   "cell_type": "code",
   "execution_count": 7,
   "id": "d007a403",
   "metadata": {},
   "outputs": [],
   "source": [
    "smiles = smiles[\"SMILES\"]\n",
    "smiles.to_csv(\"../data/interim/negative_smiles.csv\")\n",
    "# Restart the kernel and start on the next cell to save memory"
   ]
  },
  {
   "cell_type": "code",
   "execution_count": 3,
   "id": "aef70371",
   "metadata": {},
   "outputs": [],
   "source": [
    "smiles = pd.read_csv(\"../data/interim/negative_smiles.csv\")"
   ]
  },
  {
   "cell_type": "markdown",
   "id": "91eaca09",
   "metadata": {},
   "source": [
    "https://rdkit.readthedocs.io/en/latest/Cookbook.html#clustering-molecules"
   ]
  },
  {
   "cell_type": "code",
   "execution_count": 4,
   "id": "91809998",
   "metadata": {},
   "outputs": [],
   "source": [
    "from rdkit import Chem\n",
    "from rdkit.Chem import AllChem\n",
    "\n",
    "def ClusterFps(fps,cutoff=0.2):\n",
    "    from rdkit import DataStructs\n",
    "    from rdkit.ML.Cluster import Butina\n",
    "\n",
    "    # first generate the distance matrix:\n",
    "    dists = []\n",
    "    nfps = len(fps)\n",
    "    for i in range(1,nfps):\n",
    "        sims = DataStructs.BulkTanimotoSimilarity(fps[i],fps[:i])\n",
    "        dists.extend([1-x for x in sims])\n",
    "\n",
    "    # now cluster the data:\n",
    "    cs = Butina.ClusterData(dists,nfps,cutoff,isDistData=True)\n",
    "    return cs"
   ]
  },
  {
   "cell_type": "code",
   "execution_count": 5,
   "id": "8b0e2414",
   "metadata": {},
   "outputs": [
    {
     "name": "stderr",
     "output_type": "stream",
     "text": [
      "RDKit WARNING: [19:51:02] WARNING: not removing hydrogen atom without neighbors\n",
      "[19:51:02] WARNING: not removing hydrogen atom without neighbors\n",
      "RDKit WARNING: [19:51:02] WARNING: not removing hydrogen atom without neighbors\n",
      "[19:51:02] WARNING: not removing hydrogen atom without neighbors\n",
      "RDKit WARNING: [19:51:22] WARNING: not removing hydrogen atom without neighbors\n",
      "[19:51:22] WARNING: not removing hydrogen atom without neighbors\n"
     ]
    }
   ],
   "source": [
    "ms = [Chem.MolFromSmiles(x) for x in smiles[\"SMILES\"]]\n",
    "fps = [AllChem.GetMorganFingerprintAsBitVect(x,2,1024) for x in ms]"
   ]
  },
  {
   "cell_type": "code",
   "execution_count": null,
   "id": "ccf1bcd2",
   "metadata": {},
   "outputs": [],
   "source": [
    "clusters=ClusterFps(fps,cutoff=0.4)"
   ]
  },
  {
   "cell_type": "markdown",
   "id": "55b01a7f",
   "metadata": {},
   "source": [
    "Even on a server with 450GB of RAM, the above clustering fails because of memory requirements. Another approach is needed."
   ]
  }
 ],
 "metadata": {
  "kernelspec": {
   "display_name": "Python 3 (ipykernel)",
   "language": "python",
   "name": "python3"
  },
  "language_info": {
   "codemirror_mode": {
    "name": "ipython",
    "version": 3
   },
   "file_extension": ".py",
   "mimetype": "text/x-python",
   "name": "python",
   "nbconvert_exporter": "python",
   "pygments_lexer": "ipython3",
   "version": "3.8.12"
  }
 },
 "nbformat": 4,
 "nbformat_minor": 5
}
