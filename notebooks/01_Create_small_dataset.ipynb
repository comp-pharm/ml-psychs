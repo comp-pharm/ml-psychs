{
 "cells": [
  {
   "cell_type": "markdown",
   "id": "61cd6a63",
   "metadata": {},
   "source": [
    "Goal is to create a SMILES to boolean activity mapping from the smaller dataset, with a few thousand inactives from the bigger dataset thrown in for good measure."
   ]
  },
  {
   "cell_type": "code",
   "execution_count": 1,
   "id": "5f839dea",
   "metadata": {},
   "outputs": [],
   "source": [
    "import pandas as pd\n",
    "import numpy as np"
   ]
  },
  {
   "cell_type": "markdown",
   "id": "204c56e1",
   "metadata": {},
   "source": [
    "Start by loading the data sets into memory"
   ]
  },
  {
   "cell_type": "code",
   "execution_count": 2,
   "id": "f1549eb0",
   "metadata": {},
   "outputs": [],
   "source": [
    "datatable = pd.read_csv(\"../data/raw/smaller_dataset/AID_624381_datatable.csv\", skiprows=[1, 2, 3, 4])\n",
    "big_datatable = pd.read_csv(\"../data/raw/AID_624169_datatable.csv\", skiprows=[1, 2, 3, 4])"
   ]
  },
  {
   "cell_type": "code",
   "execution_count": 3,
   "id": "dc391256",
   "metadata": {},
   "outputs": [
    {
     "data": {
      "text/html": [
       "<div>\n",
       "<style scoped>\n",
       "    .dataframe tbody tr th:only-of-type {\n",
       "        vertical-align: middle;\n",
       "    }\n",
       "\n",
       "    .dataframe tbody tr th {\n",
       "        vertical-align: top;\n",
       "    }\n",
       "\n",
       "    .dataframe thead th {\n",
       "        text-align: right;\n",
       "    }\n",
       "</style>\n",
       "<table border=\"1\" class=\"dataframe\">\n",
       "  <thead>\n",
       "    <tr style=\"text-align: right;\">\n",
       "      <th></th>\n",
       "      <th>PUBCHEM_RESULT_TAG</th>\n",
       "      <th>PUBCHEM_SID</th>\n",
       "      <th>PUBCHEM_CID</th>\n",
       "      <th>PUBCHEM_ACTIVITY_OUTCOME</th>\n",
       "      <th>PUBCHEM_ACTIVITY_SCORE</th>\n",
       "      <th>PUBCHEM_ACTIVITY_URL</th>\n",
       "      <th>PUBCHEM_ASSAYDATA_COMMENT</th>\n",
       "      <th>Average Activation at 7.6 uM</th>\n",
       "      <th>Standard Deviation</th>\n",
       "      <th>Activation at 7.6 uM [1]</th>\n",
       "      <th>Activation at 7.6 uM [2]</th>\n",
       "      <th>Activation at 7.6 uM [3]</th>\n",
       "    </tr>\n",
       "  </thead>\n",
       "  <tbody>\n",
       "    <tr>\n",
       "      <th>0</th>\n",
       "      <td>1</td>\n",
       "      <td>56463199</td>\n",
       "      <td>11957566</td>\n",
       "      <td>Active</td>\n",
       "      <td>100</td>\n",
       "      <td>NaN</td>\n",
       "      <td>NaN</td>\n",
       "      <td>179.13</td>\n",
       "      <td>13.90300</td>\n",
       "      <td>165.991</td>\n",
       "      <td>198.366</td>\n",
       "      <td>173.028</td>\n",
       "    </tr>\n",
       "    <tr>\n",
       "      <th>1</th>\n",
       "      <td>2</td>\n",
       "      <td>56463291</td>\n",
       "      <td>16219016</td>\n",
       "      <td>Active</td>\n",
       "      <td>97</td>\n",
       "      <td>NaN</td>\n",
       "      <td>NaN</td>\n",
       "      <td>174.28</td>\n",
       "      <td>19.23190</td>\n",
       "      <td>193.587</td>\n",
       "      <td>181.207</td>\n",
       "      <td>148.034</td>\n",
       "    </tr>\n",
       "    <tr>\n",
       "      <th>2</th>\n",
       "      <td>3</td>\n",
       "      <td>46500349</td>\n",
       "      <td>23640911</td>\n",
       "      <td>Active</td>\n",
       "      <td>95</td>\n",
       "      <td>NaN</td>\n",
       "      <td>NaN</td>\n",
       "      <td>171.02</td>\n",
       "      <td>14.65510</td>\n",
       "      <td>151.428</td>\n",
       "      <td>174.977</td>\n",
       "      <td>186.666</td>\n",
       "    </tr>\n",
       "    <tr>\n",
       "      <th>3</th>\n",
       "      <td>4</td>\n",
       "      <td>85273743</td>\n",
       "      <td>55397</td>\n",
       "      <td>Active</td>\n",
       "      <td>95</td>\n",
       "      <td>NaN</td>\n",
       "      <td>NaN</td>\n",
       "      <td>170.53</td>\n",
       "      <td>8.62722</td>\n",
       "      <td>164.413</td>\n",
       "      <td>164.447</td>\n",
       "      <td>182.731</td>\n",
       "    </tr>\n",
       "    <tr>\n",
       "      <th>4</th>\n",
       "      <td>5</td>\n",
       "      <td>56463619</td>\n",
       "      <td>5282106</td>\n",
       "      <td>Active</td>\n",
       "      <td>95</td>\n",
       "      <td>NaN</td>\n",
       "      <td>NaN</td>\n",
       "      <td>170.21</td>\n",
       "      <td>12.82750</td>\n",
       "      <td>176.306</td>\n",
       "      <td>181.961</td>\n",
       "      <td>152.367</td>\n",
       "    </tr>\n",
       "  </tbody>\n",
       "</table>\n",
       "</div>"
      ],
      "text/plain": [
       "   PUBCHEM_RESULT_TAG  PUBCHEM_SID  PUBCHEM_CID PUBCHEM_ACTIVITY_OUTCOME  \\\n",
       "0                   1     56463199     11957566                   Active   \n",
       "1                   2     56463291     16219016                   Active   \n",
       "2                   3     46500349     23640911                   Active   \n",
       "3                   4     85273743        55397                   Active   \n",
       "4                   5     56463619      5282106                   Active   \n",
       "\n",
       "   PUBCHEM_ACTIVITY_SCORE  PUBCHEM_ACTIVITY_URL  PUBCHEM_ASSAYDATA_COMMENT  \\\n",
       "0                     100                   NaN                        NaN   \n",
       "1                      97                   NaN                        NaN   \n",
       "2                      95                   NaN                        NaN   \n",
       "3                      95                   NaN                        NaN   \n",
       "4                      95                   NaN                        NaN   \n",
       "\n",
       "   Average Activation at 7.6 uM  Standard Deviation  Activation at 7.6 uM [1]  \\\n",
       "0                        179.13            13.90300                   165.991   \n",
       "1                        174.28            19.23190                   193.587   \n",
       "2                        171.02            14.65510                   151.428   \n",
       "3                        170.53             8.62722                   164.413   \n",
       "4                        170.21            12.82750                   176.306   \n",
       "\n",
       "   Activation at 7.6 uM [2]  Activation at 7.6 uM [3]  \n",
       "0                   198.366                   173.028  \n",
       "1                   181.207                   148.034  \n",
       "2                   174.977                   186.666  \n",
       "3                   164.447                   182.731  \n",
       "4                   181.961                   152.367  "
      ]
     },
     "execution_count": 3,
     "metadata": {},
     "output_type": "execute_result"
    }
   ],
   "source": [
    "datatable.head()"
   ]
  },
  {
   "cell_type": "code",
   "execution_count": 4,
   "id": "c8f521a3",
   "metadata": {},
   "outputs": [
    {
     "name": "stdout",
     "output_type": "stream",
     "text": [
      "PUBCHEM_RESULT_TAG                 0\n",
      "PUBCHEM_SID                        0\n",
      "PUBCHEM_CID                        0\n",
      "PUBCHEM_ACTIVITY_OUTCOME           0\n",
      "PUBCHEM_ACTIVITY_SCORE             0\n",
      "PUBCHEM_ACTIVITY_URL            2266\n",
      "PUBCHEM_ASSAYDATA_COMMENT       2266\n",
      "Average Activation at 7.6 uM       0\n",
      "Standard Deviation                 0\n",
      "Activation at 7.6 uM [1]           0\n",
      "Activation at 7.6 uM [2]           0\n",
      "Activation at 7.6 uM [3]           0\n",
      "dtype: int64\n",
      "PUBCHEM_RESULT_TAG                0\n",
      "PUBCHEM_SID                       0\n",
      "PUBCHEM_CID                       1\n",
      "PUBCHEM_ACTIVITY_OUTCOME          0\n",
      "PUBCHEM_ACTIVITY_SCORE            0\n",
      "PUBCHEM_ACTIVITY_URL         364131\n",
      "PUBCHEM_ASSAYDATA_COMMENT    364131\n",
      "Activation at 7.6 uM              0\n",
      "dtype: int64\n"
     ]
    }
   ],
   "source": [
    "print(datatable.isnull().sum())\n",
    "print(big_datatable.isnull().sum())"
   ]
  },
  {
   "cell_type": "markdown",
   "id": "37f56c17",
   "metadata": {},
   "source": [
    "The data is overall pretty clean so far, with only one substance (SID) missing it's corresponding compound ID (CID). We want to filter that one out. "
   ]
  },
  {
   "cell_type": "code",
   "execution_count": 5,
   "id": "1e3a74e4",
   "metadata": {},
   "outputs": [],
   "source": [
    "big_datatable = big_datatable[~big_datatable[\"PUBCHEM_CID\"].isnull()]\n",
    "\n",
    "type_cols = {\"PUBCHEM_SID\": int, \"PUBCHEM_CID\": int}\n",
    "\n",
    "for col, col_type in type_cols.items():\n",
    "    datatable[col] = datatable[col].astype(col_type)\n",
    "    big_datatable[col] = big_datatable[col].astype(col_type)"
   ]
  },
  {
   "cell_type": "code",
   "execution_count": 6,
   "id": "0215154b",
   "metadata": {},
   "outputs": [
    {
     "name": "stdout",
     "output_type": "stream",
     "text": [
      "PUBCHEM_RESULT_TAG                 0\n",
      "PUBCHEM_SID                        0\n",
      "PUBCHEM_CID                        0\n",
      "PUBCHEM_ACTIVITY_OUTCOME           0\n",
      "PUBCHEM_ACTIVITY_SCORE             0\n",
      "PUBCHEM_ACTIVITY_URL            2266\n",
      "PUBCHEM_ASSAYDATA_COMMENT       2266\n",
      "Average Activation at 7.6 uM       0\n",
      "Standard Deviation                 0\n",
      "Activation at 7.6 uM [1]           0\n",
      "Activation at 7.6 uM [2]           0\n",
      "Activation at 7.6 uM [3]           0\n",
      "dtype: int64\n",
      "PUBCHEM_RESULT_TAG                0\n",
      "PUBCHEM_SID                       0\n",
      "PUBCHEM_CID                       0\n",
      "PUBCHEM_ACTIVITY_OUTCOME          0\n",
      "PUBCHEM_ACTIVITY_SCORE            0\n",
      "PUBCHEM_ACTIVITY_URL         364130\n",
      "PUBCHEM_ASSAYDATA_COMMENT    364130\n",
      "Activation at 7.6 uM              0\n",
      "dtype: int64\n"
     ]
    }
   ],
   "source": [
    "print(datatable.isnull().sum())\n",
    "print(big_datatable.isnull().sum())"
   ]
  },
  {
   "cell_type": "markdown",
   "id": "20ac08e2",
   "metadata": {},
   "source": [
    "Problem solved."
   ]
  },
  {
   "cell_type": "markdown",
   "id": "8a2ae03e",
   "metadata": {},
   "source": [
    "Now we start creating the final dataset by mapping activity to booleans."
   ]
  },
  {
   "cell_type": "code",
   "execution_count": 7,
   "id": "7bdd68f0",
   "metadata": {},
   "outputs": [],
   "source": [
    "cid_to_outcome = datatable[[\"PUBCHEM_CID\", \"PUBCHEM_ACTIVITY_OUTCOME\"]]\n",
    "big_cid_to_outcome = big_datatable[[\"PUBCHEM_CID\", \"PUBCHEM_ACTIVITY_OUTCOME\", \"PUBCHEM_ACTIVITY_SCORE\"]]\n",
    "\n",
    "cid_to_outcome = cid_to_outcome.replace({\"PUBCHEM_ACTIVITY_OUTCOME\": {\"Inactive\": 0, \"Active\": 1}})\n",
    "big_cid_to_outcome = big_cid_to_outcome.replace({\"PUBCHEM_ACTIVITY_OUTCOME\": {\"Inactive\": 0, \"Active\": 1}})"
   ]
  },
  {
   "cell_type": "markdown",
   "id": "376cd427",
   "metadata": {},
   "source": [
    "Let's grab just a few thousand inactive compounds from the big dataset that are not in the smaller dataset and join the data."
   ]
  },
  {
   "cell_type": "code",
   "execution_count": 8,
   "id": "d5f79b45",
   "metadata": {},
   "outputs": [
    {
     "name": "stdout",
     "output_type": "stream",
     "text": [
      "364130\n",
      "361862\n"
     ]
    }
   ],
   "source": [
    "print(len(big_cid_to_outcome))\n",
    "big_cid_to_outcome = big_cid_to_outcome[~big_cid_to_outcome[\"PUBCHEM_CID\"].isin(cid_to_outcome[\"PUBCHEM_CID\"])]\n",
    "print(len(big_cid_to_outcome))"
   ]
  },
  {
   "cell_type": "code",
   "execution_count": 9,
   "id": "48659ea4",
   "metadata": {},
   "outputs": [],
   "source": [
    "big_cid_to_outcome = big_cid_to_outcome[big_cid_to_outcome[\"PUBCHEM_ACTIVITY_SCORE\"] == 0]\n",
    "big_cid_to_outcome = big_cid_to_outcome[[\"PUBCHEM_CID\", \"PUBCHEM_ACTIVITY_OUTCOME\"]]\n",
    "extra_data = big_cid_to_outcome.sample(n=2000)"
   ]
  },
  {
   "cell_type": "markdown",
   "id": "26f8824b",
   "metadata": {},
   "source": [
    "We now get the SMILES for the CIDs. "
   ]
  },
  {
   "cell_type": "code",
   "execution_count": 10,
   "id": "8d712370",
   "metadata": {},
   "outputs": [],
   "source": [
    "from pubchempy import Compound\n",
    "\n",
    "def get_smiles(cid: int) -> str:\n",
    "    comp = Compound.from_cid(cid)\n",
    "    return comp.isomeric_smiles\n",
    "\n",
    "cid_to_outcome[\"SMILES\"] = cid_to_outcome[\"PUBCHEM_CID\"].apply(get_smiles)\n",
    "extra_data[\"SMILES\"] = extra_data[\"PUBCHEM_CID\"].apply(get_smiles)"
   ]
  },
  {
   "cell_type": "markdown",
   "id": "a9972f6d",
   "metadata": {},
   "source": [
    "Finally we save the datasets."
   ]
  },
  {
   "cell_type": "code",
   "execution_count": 11,
   "id": "cd65d29d",
   "metadata": {},
   "outputs": [],
   "source": [
    "cid_to_outcome = cid_to_outcome[[\"SMILES\", \"PUBCHEM_ACTIVITY_OUTCOME\"]]\n",
    "extra_data = extra_data[[\"SMILES\", \"PUBCHEM_ACTIVITY_OUTCOME\"]]\n",
    "\n",
    "cid_to_outcome.to_csv(\"../data/interim/smaller_dataset/SMILES_to_Activity.csv\", index=False)\n",
    "extra_data.to_csv(\"../data/interim/smaller_dataset/extra_SMILES_to_Activity.csv\", index=False)"
   ]
  }
 ],
 "metadata": {
  "kernelspec": {
   "display_name": "Python 3 (ipykernel)",
   "language": "python",
   "name": "python3"
  },
  "language_info": {
   "codemirror_mode": {
    "name": "ipython",
    "version": 3
   },
   "file_extension": ".py",
   "mimetype": "text/x-python",
   "name": "python",
   "nbconvert_exporter": "python",
   "pygments_lexer": "ipython3",
   "version": "3.8.12"
  }
 },
 "nbformat": 4,
 "nbformat_minor": 5
}
