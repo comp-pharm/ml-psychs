{
 "cells": [
  {
   "cell_type": "markdown",
   "id": "986a47ce",
   "metadata": {},
   "source": [
    "Now that we have the subset of larger data with which to augment our smaller data, we need to merge the data for training."
   ]
  },
  {
   "cell_type": "code",
   "execution_count": 1,
   "id": "0ccc191f",
   "metadata": {},
   "outputs": [],
   "source": [
    "import pandas as pd"
   ]
  },
  {
   "cell_type": "code",
   "execution_count": 3,
   "id": "0d2fd837",
   "metadata": {},
   "outputs": [],
   "source": [
    "smaller_data = pd.read_csv(\"../data/interim/smaller_dataset/SMILES_to_Activity.csv\")\n",
    "augment = pd.read_csv(\"../data/interim/negative_smiles_subset.csv\")"
   ]
  },
  {
   "cell_type": "code",
   "execution_count": 7,
   "id": "4c9c7bb9",
   "metadata": {},
   "outputs": [],
   "source": [
    "augment[\"PUBCHEM_ACTIVITY_OUTCOME\"] = 0"
   ]
  },
  {
   "cell_type": "code",
   "execution_count": 9,
   "id": "07a4cf20",
   "metadata": {},
   "outputs": [
    {
     "data": {
      "text/html": [
       "<div>\n",
       "<style scoped>\n",
       "    .dataframe tbody tr th:only-of-type {\n",
       "        vertical-align: middle;\n",
       "    }\n",
       "\n",
       "    .dataframe tbody tr th {\n",
       "        vertical-align: top;\n",
       "    }\n",
       "\n",
       "    .dataframe thead th {\n",
       "        text-align: right;\n",
       "    }\n",
       "</style>\n",
       "<table border=\"1\" class=\"dataframe\">\n",
       "  <thead>\n",
       "    <tr style=\"text-align: right;\">\n",
       "      <th></th>\n",
       "      <th>SMILES</th>\n",
       "      <th>PUBCHEM_ACTIVITY_OUTCOME</th>\n",
       "    </tr>\n",
       "  </thead>\n",
       "  <tbody>\n",
       "    <tr>\n",
       "      <th>0</th>\n",
       "      <td>CCCN(CCC)C1CCC2=C(C1)C=C(C=C2)O.Br</td>\n",
       "      <td>1</td>\n",
       "    </tr>\n",
       "    <tr>\n",
       "      <th>1</th>\n",
       "      <td>CC(C)C[C@H]1C(=O)N2CCC[C@H]2[C@]3(N1C(=O)[C@](...</td>\n",
       "      <td>1</td>\n",
       "    </tr>\n",
       "    <tr>\n",
       "      <th>2</th>\n",
       "      <td>CCCN1CCC2=C3[C@H]1CC4=C(C3=CC(=C2)O)C(=C(C=C4)...</td>\n",
       "      <td>1</td>\n",
       "    </tr>\n",
       "    <tr>\n",
       "      <th>3</th>\n",
       "      <td>CCCN1CCC[C@H]2[C@H]1CC3=C(C2)NN=C3.Cl</td>\n",
       "      <td>1</td>\n",
       "    </tr>\n",
       "    <tr>\n",
       "      <th>4</th>\n",
       "      <td>CCCCCCCC/C=C\\CCCCCCCC(=O)NCCC1=CC(=C(C=C1)O)O</td>\n",
       "      <td>1</td>\n",
       "    </tr>\n",
       "  </tbody>\n",
       "</table>\n",
       "</div>"
      ],
      "text/plain": [
       "                                              SMILES  PUBCHEM_ACTIVITY_OUTCOME\n",
       "0                 CCCN(CCC)C1CCC2=C(C1)C=C(C=C2)O.Br                         1\n",
       "1  CC(C)C[C@H]1C(=O)N2CCC[C@H]2[C@]3(N1C(=O)[C@](...                         1\n",
       "2  CCCN1CCC2=C3[C@H]1CC4=C(C3=CC(=C2)O)C(=C(C=C4)...                         1\n",
       "3              CCCN1CCC[C@H]2[C@H]1CC3=C(C2)NN=C3.Cl                         1\n",
       "4      CCCCCCCC/C=C\\CCCCCCCC(=O)NCCC1=CC(=C(C=C1)O)O                         1"
      ]
     },
     "execution_count": 9,
     "metadata": {},
     "output_type": "execute_result"
    }
   ],
   "source": [
    "augmented_data = pd.concat([smaller_data, augment])\n",
    "augmented_data.head()"
   ]
  },
  {
   "cell_type": "code",
   "execution_count": 10,
   "id": "067c5286",
   "metadata": {},
   "outputs": [],
   "source": [
    "augmented_data.to_csv(\"../data/interim/augmented_data/SMILES_to_Activity.csv\", index=False)"
   ]
  }
 ],
 "metadata": {
  "kernelspec": {
   "display_name": "Python 3 (ipykernel)",
   "language": "python",
   "name": "python3"
  },
  "language_info": {
   "codemirror_mode": {
    "name": "ipython",
    "version": 3
   },
   "file_extension": ".py",
   "mimetype": "text/x-python",
   "name": "python",
   "nbconvert_exporter": "python",
   "pygments_lexer": "ipython3",
   "version": "3.8.12"
  }
 },
 "nbformat": 4,
 "nbformat_minor": 5
}
