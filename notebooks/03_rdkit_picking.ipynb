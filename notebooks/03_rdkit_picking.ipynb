{
 "cells": [
  {
   "cell_type": "markdown",
   "id": "e02b8add",
   "metadata": {},
   "source": [
    "Since the fancy clustering wasn't computationally efficent enough for the size of our data, we just use the built-in RDKit picking framework."
   ]
  },
  {
   "cell_type": "code",
   "execution_count": 1,
   "id": "09815941",
   "metadata": {},
   "outputs": [],
   "source": [
    "import pandas as pd\n",
    "import rdkit\n",
    "from rdkit import DataStructs\n",
    "from rdkit.Chem.rdMolDescriptors import GetMorganFingerprint\n",
    "from rdkit.SimDivFilters.rdSimDivPickers import MaxMinPicker"
   ]
  },
  {
   "cell_type": "code",
   "execution_count": 2,
   "id": "7ea37a11",
   "metadata": {},
   "outputs": [],
   "source": [
    "df = pd.read_csv(\"../data/interim/negative_smiles.csv\")"
   ]
  },
  {
   "cell_type": "code",
   "execution_count": 3,
   "id": "f4dee699",
   "metadata": {},
   "outputs": [
    {
     "data": {
      "text/html": [
       "<div>\n",
       "<style scoped>\n",
       "    .dataframe tbody tr th:only-of-type {\n",
       "        vertical-align: middle;\n",
       "    }\n",
       "\n",
       "    .dataframe tbody tr th {\n",
       "        vertical-align: top;\n",
       "    }\n",
       "\n",
       "    .dataframe thead th {\n",
       "        text-align: right;\n",
       "    }\n",
       "</style>\n",
       "<table border=\"1\" class=\"dataframe\">\n",
       "  <thead>\n",
       "    <tr style=\"text-align: right;\">\n",
       "      <th></th>\n",
       "      <th>SMILES</th>\n",
       "    </tr>\n",
       "  </thead>\n",
       "  <tbody>\n",
       "    <tr>\n",
       "      <th>0</th>\n",
       "      <td>CCOCCCNCC(=O)NC1=CC=C(C=C1)OC(F)(F)F.Cl</td>\n",
       "    </tr>\n",
       "    <tr>\n",
       "      <th>1</th>\n",
       "      <td>COCCN1C(=NN=N1)CN2CCC(CC2)CC3=CC=CC=C3.Cl</td>\n",
       "    </tr>\n",
       "    <tr>\n",
       "      <th>2</th>\n",
       "      <td>COCCN1C(=NN=N1)CN2CCC(CC2)(C3=CC(=CC=C3)C(F)(F...</td>\n",
       "    </tr>\n",
       "    <tr>\n",
       "      <th>3</th>\n",
       "      <td>C1CCCN(CC1)CC(=O)NCCC2=CC=C(C=C2)F.C(=O)(C(=O)O)O</td>\n",
       "    </tr>\n",
       "    <tr>\n",
       "      <th>4</th>\n",
       "      <td>COC1=CC=C(C=C1)C(=O)C(C2=CC=CC=C2)N3CCOCC3.Cl</td>\n",
       "    </tr>\n",
       "  </tbody>\n",
       "</table>\n",
       "</div>"
      ],
      "text/plain": [
       "                                              SMILES\n",
       "0            CCOCCCNCC(=O)NC1=CC=C(C=C1)OC(F)(F)F.Cl\n",
       "1          COCCN1C(=NN=N1)CN2CCC(CC2)CC3=CC=CC=C3.Cl\n",
       "2  COCCN1C(=NN=N1)CN2CCC(CC2)(C3=CC(=CC=C3)C(F)(F...\n",
       "3  C1CCCN(CC1)CC(=O)NCCC2=CC=C(C=C2)F.C(=O)(C(=O)O)O\n",
       "4      COC1=CC=C(C=C1)C(=O)C(C2=CC=CC=C2)N3CCOCC3.Cl"
      ]
     },
     "execution_count": 3,
     "metadata": {},
     "output_type": "execute_result"
    }
   ],
   "source": [
    "df.drop(\"Unnamed: 0\", axis=1, inplace=True)\n",
    "df.head()"
   ]
  },
  {
   "cell_type": "code",
   "execution_count": 4,
   "id": "d591ff96",
   "metadata": {},
   "outputs": [
    {
     "name": "stderr",
     "output_type": "stream",
     "text": [
      "RDKit WARNING: [12:59:46] WARNING: not removing hydrogen atom without neighbors\n",
      "[12:59:46] WARNING: not removing hydrogen atom without neighbors\n",
      "RDKit WARNING: [12:59:46] WARNING: not removing hydrogen atom without neighbors\n",
      "[12:59:46] WARNING: not removing hydrogen atom without neighbors\n",
      "RDKit WARNING: [13:00:10] WARNING: not removing hydrogen atom without neighbors\n",
      "[13:00:10] WARNING: not removing hydrogen atom without neighbors\n"
     ]
    }
   ],
   "source": [
    "ms = [rdkit.Chem.MolFromSmiles(x) for x in df[\"SMILES\"]]"
   ]
  },
  {
   "cell_type": "code",
   "execution_count": 5,
   "id": "5f0112b9",
   "metadata": {},
   "outputs": [],
   "source": [
    "fps = [GetMorganFingerprint(x,3) for x in ms]"
   ]
  },
  {
   "cell_type": "code",
   "execution_count": 6,
   "id": "d99e1714",
   "metadata": {},
   "outputs": [],
   "source": [
    "def distij(i,j,fps=fps):\n",
    "    return 1-DataStructs.DiceSimilarity(fps[i],fps[j])\n",
    "\n",
    "picker = MaxMinPicker()\n",
    "pickIndices = picker.LazyPick(distij,len(fps),2000,seed=23)"
   ]
  },
  {
   "cell_type": "code",
   "execution_count": 7,
   "id": "37322b21",
   "metadata": {},
   "outputs": [],
   "source": [
    "picks = [df[\"SMILES\"][x] for x in pickIndices]"
   ]
  },
  {
   "cell_type": "code",
   "execution_count": 10,
   "id": "2f9889d1",
   "metadata": {},
   "outputs": [],
   "source": [
    "with open(\"../data/interim/negative_smiles_subset.csv\", 'w') as f:\n",
    "    f.write(\"SMILES\\n\")\n",
    "    for i in picks:\n",
    "        if i:\n",
    "            f.write(\"%s\\n\" % i)"
   ]
  }
 ],
 "metadata": {
  "kernelspec": {
   "display_name": "Python 3 (ipykernel)",
   "language": "python",
   "name": "python3"
  },
  "language_info": {
   "codemirror_mode": {
    "name": "ipython",
    "version": 3
   },
   "file_extension": ".py",
   "mimetype": "text/x-python",
   "name": "python",
   "nbconvert_exporter": "python",
   "pygments_lexer": "ipython3",
   "version": "3.8.12"
  }
 },
 "nbformat": 4,
 "nbformat_minor": 5
}
